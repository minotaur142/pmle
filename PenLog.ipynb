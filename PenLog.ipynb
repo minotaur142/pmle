{
 "cells": [
  {
   "cell_type": "code",
   "execution_count": 375,
   "metadata": {},
   "outputs": [],
   "source": [
    "from sklearn.datasets import load_breast_cancer\n",
    "import pandas as pd\n",
    "import rpy2.robjects as ro\n",
    "from rpy2.robjects import pandas2ri\n",
    "from rpy2.robjects.packages import importr\n",
    "from rpy2.robjects.conversion import localconverter\n",
    "import numpy as np\n",
    "from sklearn.linear_model import LogisticRegression\n",
    "from statsmodels.discrete.discrete_model import Logit\n",
    "from statsmodels.tools.tools import add_constant\n",
    "from sklearn.linear_model import SGDClassifier\n",
    "import random\n",
    "from sklearn.metrics import accuracy_score\n",
    "import statsmodels.api as sm\n",
    "from sklearn.metrics import log_loss\n",
    "from statsmodels.tools.tools import add_constant"
   ]
  },
  {
   "cell_type": "code",
   "execution_count": 233,
   "metadata": {},
   "outputs": [],
   "source": [
    "#Load Data\n",
    "features = [i.replace(' ', '_') for i in load_breast_cancer().feature_names.tolist()]\n",
    "\n",
    "breast_cancer_df = pd.DataFrame(load_breast_cancer().data,columns=features)\n",
    "target_df = pd.DataFrame(load_breast_cancer().target, columns=['y'])\n",
    "\n",
    "df = pd.concat([target_df,breast_cancer_df],axis=1)"
   ]
  },
  {
   "cell_type": "code",
   "execution_count": 234,
   "metadata": {},
   "outputs": [],
   "source": [
    "#Create small data set and rare event data set\n",
    "num_successes_for_rare = int(((((1-df.y.mean())*df.shape[0])/.95)-((1-df.y.mean())*df.shape[0]))//1)\n",
    "rare_inds = sorted(list(df[df.y==0].index) + random.sample(list(df[df.y==1].index),num_successes_for_rare))\n",
    "small_inds = random.sample(sorted(list(df.index)),50)\n",
    "rare_df = df.iloc[rare_inds,:]\n",
    "small_df = df.iloc[small_inds,:]"
   ]
  },
  {
   "cell_type": "code",
   "execution_count": 289,
   "metadata": {},
   "outputs": [],
   "source": [
    "def DAP(df,y_var_name):\n",
    "    '''Perform log-f(1,1) data augmentation\n",
    "       Returns augmented df and observation weights'''\n",
    "    \n",
    "    num_rows = 2*(df.shape[1]-1)\n",
    "    y_ind = df.columns.get_loc(y_var_name)\n",
    "    \n",
    "    aug = pd.DataFrame(0,columns=df.columns,index=(range(num_rows)))\n",
    "    \n",
    "    #augment y variable\n",
    "    aug.iloc[range(0,num_rows,2),y_ind]=1\n",
    "    y = aug[y_var_name]\n",
    "    \n",
    "    #augment X variables\n",
    "    X = aug.drop(y_var_name,axis=1)\n",
    "    for ind, rows in enumerate(range(0,X.shape[0],2)):\n",
    "         X.iloc[rows:rows+2,ind]=1\n",
    "    \n",
    "    #bring it all together\n",
    "    aug = pd.concat([y,X],axis=1)\n",
    "    f_df = df.append(aug)\n",
    "    \n",
    "    #add offset\n",
    "    f_df['real_data']=1\n",
    "    f_df['real_data'][-aug.shape[0]:]=0\n",
    "    \n",
    "    #reseparate\n",
    "    X = f_df.drop(y_var_name,axis=1)\n",
    "    y = f_df[y_var_name]\n",
    "    #Calculate weights\n",
    "    weights = f_df['real_data'].apply(lambda x: 0.5 if x == 0 else 1)\n",
    "    return X, y, weights      "
   ]
  },
  {
   "cell_type": "code",
   "execution_count": 290,
   "metadata": {},
   "outputs": [
    {
     "name": "stderr",
     "output_type": "stream",
     "text": [
      "/Users/remycanario/anaconda3/lib/python3.7/site-packages/ipykernel_launcher.py:25: SettingWithCopyWarning: \n",
      "A value is trying to be set on a copy of a slice from a DataFrame\n",
      "\n",
      "See the caveats in the documentation: http://pandas.pydata.org/pandas-docs/stable/user_guide/indexing.html#returning-a-view-versus-a-copy\n"
     ]
    }
   ],
   "source": [
    "all_X,all_y, all_weights = DAP(df,'y')\n",
    "small_X,small_y, small_weights = DAP(small_df,'y')\n",
    "rare_X,rare_y, rare_weights = DAP(rare_df,'y')"
   ]
  },
  {
   "cell_type": "code",
   "execution_count": 333,
   "metadata": {},
   "outputs": [],
   "source": [
    "#Convert data to R\n",
    "with localconverter(ro.default_converter + pandas2ri.converter):\n",
    "    #for firth\n",
    "    firth_all_r = ro.conversion.py2ri(df)\n",
    "    firth_small_r = ro.conversion.py2ri(small_df)\n",
    "    firth_rare_r = ro.conversion.py2ri(rare_df)\n",
    "    \n",
    "    #for logf\n",
    "    logf_all_X_r = ro.conversion.py2ri(all_X)\n",
    "    logf_all_y_r = ro.vectors.IntVector(all_y)\n",
    "    all_weights_r = ro.vectors.FloatVector(all_weights)\n",
    "    logf_small_X_r = ro.conversion.py2ri(small_X)\n",
    "    logf_small_y_r = ro.vectors.IntVector(small_y)\n",
    "    small_weights_r = ro.vectors.FloatVector(small_weights)\n",
    "    logf_rare_X_r = ro.conversion.py2ri(rare_X)\n",
    "    logf_rare_y_r = ro.vectors.IntVector(rare_y)\n",
    "    rare_weights_r = ro.vectors.FloatVector(rare_weights)"
   ]
  },
  {
   "cell_type": "code",
   "execution_count": 93,
   "metadata": {},
   "outputs": [],
   "source": [
    "base = importr('base')\n",
    "d = {'package.dependencies': 'package_dot_dependencies',\n",
    "     'package_dependencies': 'package_uscore_dependencies'}\n",
    "brglm = importr('brglm',robject_translations=d)"
   ]
  },
  {
   "cell_type": "code",
   "execution_count": 94,
   "metadata": {},
   "outputs": [],
   "source": [
    "firth_formula = 'y ~ ' + \" + \".join(features)\n",
    "logf_formula = 'y ~ ' +' + '.join(list(small_aug.columns)[1:])"
   ]
  },
  {
   "cell_type": "code",
   "execution_count": 249,
   "metadata": {},
   "outputs": [],
   "source": [
    "model = brglm.brglm('y ~ .', data = logf_small_r, family='binomial',pl=True)\n",
    "small_summary = base.summary(model)\n",
    "small_summary_dic = {}\n",
    "for i in range(len(small_summary.names)):\n",
    "    try:\n",
    "        small_summary_dic[small_summary.names[i]]=pandas2ri.converter.ri2py(list(small_summary)[i])\n",
    "    except:\n",
    "        pass\n",
    "\n",
    "small_coefs = pd.DataFrame(small_summary_dic['coefficients'],columns=(['Coef','SE','Z','P']),index=all_aug.columns)\n",
    "# small_preds_r = ro.r.predict(model,firth_all_r)"
   ]
  },
  {
   "cell_type": "code",
   "execution_count": 348,
   "metadata": {},
   "outputs": [],
   "source": [
    "def get_r_firth_results(df, test_df, formula):\n",
    "    model = brglm.brglm(formula, data = df, family='binomial',pl=True)\n",
    "    summary = base.summary(model)\n",
    "    summary_dic = {}\n",
    "    for i in range(len(summary.names)):\n",
    "        try:\n",
    "            summary_dic[summary.names[i]]=pandas2ri.converter.ri2py(list(summary)[i])\n",
    "        except:\n",
    "            pass\n",
    "    columns = list(df.colnames)\n",
    "    columns[0]='Intercept'\n",
    "    coefs = pd.DataFrame(summary_dic['coefficients'],columns=(['Coef','SE','Z','P']),index=columns)\n",
    "    preds = ro.r.predict(model,firth_all_r)\n",
    "    preds = list(preds)             \n",
    "    return preds, coefs\n",
    "\n",
    "\n",
    "def logf(X,y,len_orig_data):\n",
    "    X = X.append(X.iloc[:len_orig_data,:])\n",
    "    y = y.append(y.iloc[:len_orig_data])\n",
    "    model = sm.Logit(y,X).fit()\n",
    "    return model\n",
    "\n",
    "def get_r_logf_results(X, y, test_X, weights):\n",
    "    columns = X.colnames\n",
    "    model = brglm.brglm_fit(X,y,intercept=False,weights=weights)\n",
    "#     summary = base.summary(test)\n",
    "#     print(summary)\n",
    "    summary_dic = {}\n",
    "    for i in range(len(model.names)):\n",
    "        try:\n",
    "            summary_dic[model.names[i]]=pandas2ri.converter.ri2py(list(model)[i])\n",
    "        except:\n",
    "            pass\n",
    "    print(summary_dic['coefficients'])\n",
    "    coefs = pd.DataFrame(summary_dic['coefficients'],index=columns,columns=(['Coef']))\n",
    "    preds = ro.r.predict(model,test_X)\n",
    "    preds = list(preds)\n",
    "    return preds, coefs"
   ]
  },
  {
   "cell_type": "code",
   "execution_count": null,
   "metadata": {},
   "outputs": [],
   "source": [
    "def Sigmoid_Pred(X, weights):\n",
    "    z = np.dot(X,weights)\n",
    "    sig =  (1 + np.exp(-1*z))**-1\n",
    "    sig = np.clip(sig,.000001,.999999)\n",
    "    return sig"
   ]
  },
  {
   "cell_type": "code",
   "execution_count": 392,
   "metadata": {},
   "outputs": [
    {
     "name": "stdout",
     "output_type": "stream",
     "text": [
      "Optimization terminated successfully.\n",
      "         Current function value: 0.381690\n",
      "         Iterations 16\n",
      "Optimization terminated successfully.\n",
      "         Current function value: 0.382146\n",
      "         Iterations 20\n",
      "0.8918918918918919\n",
      "0.8871224165341812\n",
      "0.8506151142355008\n",
      "0.6793652151854367\n",
      "1.003324088513801\n",
      "0.42975553593490895\n"
     ]
    },
    {
     "name": "stderr",
     "output_type": "stream",
     "text": [
      "/Users/remycanario/anaconda3/lib/python3.7/site-packages/numpy/core/fromnumeric.py:2542: FutureWarning: Method .ptp is deprecated and will be removed in a future version. Use numpy.ptp instead.\n",
      "  return ptp(axis=axis, out=out, **kwargs)\n"
     ]
    }
   ],
   "source": [
    "#Small Comparison\n",
    "control = sm.Logit(small_y,add_constant(small_X)).fit()\n",
    "logf_model = logf(small_X,small_y,df.shape[0])\n",
    "firth_small_pred, firth_small_coef = get_r_firth_results(firth_small_r,firth_all_r,formula)\n",
    "firth = Sigmoid_Pred(add_constant(breast_cancer_df),firth_small_coef.Coef)\n",
    "\n",
    "print(accuracy_score(all_y, control.predict(add_constant(all_X)).round()))\n",
    "print(accuracy_score(all_y,logf_model.predict(all_X).round()))\n",
    "print(accuracy_score(target_df,firth.round()))\n",
    "\n",
    "\n",
    "print(log_loss(all_y, control.predict(add_constant(all_X))))\n",
    "print(log_loss(all_y,logf_model.predict(all_X)))\n",
    "print(log_loss(target_df,firth))"
   ]
  },
  {
   "cell_type": "code",
   "execution_count": 393,
   "metadata": {},
   "outputs": [
    {
     "name": "stdout",
     "output_type": "stream",
     "text": [
      "Optimization terminated successfully.\n",
      "         Current function value: 0.158914\n",
      "         Iterations 16\n",
      "Optimization terminated successfully.\n",
      "         Current function value: 0.159815\n",
      "         Iterations 15\n",
      "0.821939586645469\n",
      "0.8171701112877583\n",
      "0.804920913884007\n",
      "0.8695867064765834\n",
      "0.7995288142219448\n",
      "0.5576147241742745\n"
     ]
    },
    {
     "name": "stderr",
     "output_type": "stream",
     "text": [
      "/Users/remycanario/anaconda3/lib/python3.7/site-packages/numpy/core/fromnumeric.py:2542: FutureWarning: Method .ptp is deprecated and will be removed in a future version. Use numpy.ptp instead.\n",
      "  return ptp(axis=axis, out=out, **kwargs)\n"
     ]
    }
   ],
   "source": [
    "#rare Comparison\n",
    "control = sm.Logit(rare_y,add_constant(rare_X)).fit()\n",
    "logf_model = logf(rare_X,rare_y,df.shape[0])\n",
    "firth_rare_pred, firth_rare_coef = get_r_firth_results(firth_rare_r,firth_all_r,formula)\n",
    "firth = Sigmoid_Pred(add_constant(breast_cancer_df),firth_rare_coef.Coef)\n",
    "\n",
    "print(accuracy_score(all_y, control.predict(add_constant(all_X)).round()))\n",
    "print(accuracy_score(all_y,logf_model.predict(all_X).round()))\n",
    "print(accuracy_score(target_df,firth.round()))\n",
    "\n",
    "\n",
    "print(log_loss(all_y, control.predict(add_constant(all_X))))\n",
    "print(log_loss(all_y,logf_model.predict(all_X)))\n",
    "print(log_loss(target_df,firth))"
   ]
  },
  {
   "cell_type": "code",
   "execution_count": 266,
   "metadata": {},
   "outputs": [],
   "source": [
    "# def get_r_logf_results(df, test_df, formula, weights):\n",
    "#     model = brglm.brglm(formula, data = df, family='binomial', weights=weights)\n",
    "#     summary = base.summary(model)\n",
    "#     summary_dic = {}\n",
    "#     for i in range(len(summary.names)):\n",
    "#         try:\n",
    "#             summary_dic[summary.names[i]]=pandas2ri.converter.ri2py(list(summary)[i])\n",
    "#         except:\n",
    "#             pass\n",
    "#     summary_dic['coefficients']\n",
    "#     coefs = pd.DataFrame(summary_dic['coefficients'],index=df.colnames,columns=(['Coef','SE','Z','P']))\n",
    "#     preds = ro.r.predict(model,firth_all_r)                  \n",
    "#     return preds, coefs"
   ]
  }
 ],
 "metadata": {
  "kernelspec": {
   "display_name": "Python 3",
   "language": "python",
   "name": "python3"
  },
  "language_info": {
   "codemirror_mode": {
    "name": "ipython",
    "version": 3
   },
   "file_extension": ".py",
   "mimetype": "text/x-python",
   "name": "python",
   "nbconvert_exporter": "python",
   "pygments_lexer": "ipython3",
   "version": "3.7.3"
  }
 },
 "nbformat": 4,
 "nbformat_minor": 2
}
