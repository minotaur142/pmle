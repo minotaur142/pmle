{
 "cells": [
  {
   "cell_type": "code",
   "execution_count": null,
   "metadata": {},
   "outputs": [],
   "source": []
  },
  {
   "cell_type": "code",
   "execution_count": null,
   "metadata": {},
   "outputs": [],
   "source": [
    "#exact logit\n",
    "#get all permutations of y values for given length\n",
    "def get_y_combos(length)\n",
    "    perms = []\n",
    "    step_1 = list(combinations_with_replacement([0,1],length))\n",
    "    for step in step_1:\n",
    "        perms += list(set(permutations(step,5)))\n",
    "    return perms\n",
    "#multiply each pair of X values by its corresponding y value\n",
    "ts = []\n",
    "for perm in perms:\n",
    "    t = [0,0]\n",
    "    for i in range(len(perm)):\n",
    "        t[0]+=perm[i]*ex_X.iloc[i][0].round()\n",
    "        t[1]+=perm[i]*ex_X.iloc[i][1].round()\n",
    "    ts.append(t)\n",
    "    \n",
    "#find a pair of ts where t1 = actual distributions t1\n",
    "actual_y_values_ind = perms.index((1,1,0,0,1))\n",
    "[t for t in ts if t[1] == ts[actual_y_values_ind][1]]"
   ]
  }
 ],
 "metadata": {
  "kernelspec": {
   "display_name": "Python 3",
   "language": "python",
   "name": "python3"
  },
  "language_info": {
   "codemirror_mode": {
    "name": "ipython",
    "version": 3
   },
   "file_extension": ".py",
   "mimetype": "text/x-python",
   "name": "python",
   "nbconvert_exporter": "python",
   "pygments_lexer": "ipython3",
   "version": "3.7.3"
  }
 },
 "nbformat": 4,
 "nbformat_minor": 2
}
